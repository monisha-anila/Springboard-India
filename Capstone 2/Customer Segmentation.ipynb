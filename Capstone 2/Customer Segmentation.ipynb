{
 "cells": [
  {
   "cell_type": "code",
   "execution_count": 1,
   "metadata": {},
   "outputs": [],
   "source": [
    "import numpy as np\n",
    "import pandas as pd\n",
    "import matplotlib.pyplot as plt\n",
    "import seaborn as sns"
   ]
  },
  {
   "cell_type": "code",
   "execution_count": 2,
   "metadata": {},
   "outputs": [],
   "source": [
    "file=pd.read_csv('Data.csv')"
   ]
  },
  {
   "cell_type": "code",
   "execution_count": 3,
   "metadata": {},
   "outputs": [
    {
     "data": {
      "text/html": [
       "<div>\n",
       "<style scoped>\n",
       "    .dataframe tbody tr th:only-of-type {\n",
       "        vertical-align: middle;\n",
       "    }\n",
       "\n",
       "    .dataframe tbody tr th {\n",
       "        vertical-align: top;\n",
       "    }\n",
       "\n",
       "    .dataframe thead th {\n",
       "        text-align: right;\n",
       "    }\n",
       "</style>\n",
       "<table border=\"1\" class=\"dataframe\">\n",
       "  <thead>\n",
       "    <tr style=\"text-align: right;\">\n",
       "      <th></th>\n",
       "      <th>InvoiceDate</th>\n",
       "      <th>Invoice Time</th>\n",
       "      <th>CustomerID</th>\n",
       "      <th>InvoiceNo</th>\n",
       "      <th>StockCode</th>\n",
       "      <th>Description</th>\n",
       "      <th>Country</th>\n",
       "      <th>Quantity</th>\n",
       "      <th>UnitPrice</th>\n",
       "      <th>Revenue</th>\n",
       "      <th>Items availability</th>\n",
       "    </tr>\n",
       "  </thead>\n",
       "  <tbody>\n",
       "    <tr>\n",
       "      <th>0</th>\n",
       "      <td>14.12.2017</td>\n",
       "      <td>6:00</td>\n",
       "      <td>AVpgMuGwLJeJML43KY_c</td>\n",
       "      <td>536365</td>\n",
       "      <td>85123A</td>\n",
       "      <td>WHITE HANGING HEART T-LIGHT HOLDER</td>\n",
       "      <td>United Kingdom</td>\n",
       "      <td>6</td>\n",
       "      <td>2.55</td>\n",
       "      <td>15.30</td>\n",
       "      <td>In Stock</td>\n",
       "    </tr>\n",
       "    <tr>\n",
       "      <th>1</th>\n",
       "      <td>08.09.2017</td>\n",
       "      <td>5:00</td>\n",
       "      <td>AVpgMuGwLJeJML43KY_c</td>\n",
       "      <td>536365</td>\n",
       "      <td>71053</td>\n",
       "      <td>WHITE METAL LANTERN</td>\n",
       "      <td>United Kingdom</td>\n",
       "      <td>6</td>\n",
       "      <td>3.39</td>\n",
       "      <td>20.34</td>\n",
       "      <td>In Stock</td>\n",
       "    </tr>\n",
       "    <tr>\n",
       "      <th>2</th>\n",
       "      <td>10.10.2017</td>\n",
       "      <td>5:00</td>\n",
       "      <td>AVpgMuGwLJeJML43KY_c</td>\n",
       "      <td>536365</td>\n",
       "      <td>84406B</td>\n",
       "      <td>CREAM CUPID HEARTS COAT HANGER</td>\n",
       "      <td>United Kingdom</td>\n",
       "      <td>8</td>\n",
       "      <td>2.75</td>\n",
       "      <td>22.00</td>\n",
       "      <td>In Stock</td>\n",
       "    </tr>\n",
       "    <tr>\n",
       "      <th>3</th>\n",
       "      <td>28.08.2017</td>\n",
       "      <td>7:00</td>\n",
       "      <td>AVpgMuGwLJeJML43KY_c</td>\n",
       "      <td>536365</td>\n",
       "      <td>84029G</td>\n",
       "      <td>KNITTED UNION FLAG HOT WATER BOTTLE</td>\n",
       "      <td>United Kingdom</td>\n",
       "      <td>6</td>\n",
       "      <td>3.39</td>\n",
       "      <td>20.34</td>\n",
       "      <td>In Stock</td>\n",
       "    </tr>\n",
       "    <tr>\n",
       "      <th>4</th>\n",
       "      <td>24.10.2017</td>\n",
       "      <td>4:00</td>\n",
       "      <td>AVpgMuGwLJeJML43KY_c</td>\n",
       "      <td>536365</td>\n",
       "      <td>84029E</td>\n",
       "      <td>RED WOOLLY HOTTIE WHITE HEART.</td>\n",
       "      <td>United Kingdom</td>\n",
       "      <td>6</td>\n",
       "      <td>3.39</td>\n",
       "      <td>20.34</td>\n",
       "      <td>In Stock</td>\n",
       "    </tr>\n",
       "  </tbody>\n",
       "</table>\n",
       "</div>"
      ],
      "text/plain": [
       "  InvoiceDate Invoice Time            CustomerID  InvoiceNo StockCode  \\\n",
       "0  14.12.2017         6:00  AVpgMuGwLJeJML43KY_c     536365    85123A   \n",
       "1  08.09.2017         5:00  AVpgMuGwLJeJML43KY_c     536365     71053   \n",
       "2  10.10.2017         5:00  AVpgMuGwLJeJML43KY_c     536365    84406B   \n",
       "3  28.08.2017         7:00  AVpgMuGwLJeJML43KY_c     536365    84029G   \n",
       "4  24.10.2017         4:00  AVpgMuGwLJeJML43KY_c     536365    84029E   \n",
       "\n",
       "                           Description         Country  Quantity  UnitPrice  \\\n",
       "0   WHITE HANGING HEART T-LIGHT HOLDER  United Kingdom         6       2.55   \n",
       "1                  WHITE METAL LANTERN  United Kingdom         6       3.39   \n",
       "2       CREAM CUPID HEARTS COAT HANGER  United Kingdom         8       2.75   \n",
       "3  KNITTED UNION FLAG HOT WATER BOTTLE  United Kingdom         6       3.39   \n",
       "4       RED WOOLLY HOTTIE WHITE HEART.  United Kingdom         6       3.39   \n",
       "\n",
       "   Revenue Items availability  \n",
       "0    15.30           In Stock  \n",
       "1    20.34           In Stock  \n",
       "2    22.00           In Stock  \n",
       "3    20.34           In Stock  \n",
       "4    20.34           In Stock  "
      ]
     },
     "execution_count": 3,
     "metadata": {},
     "output_type": "execute_result"
    }
   ],
   "source": [
    "file.head()"
   ]
  },
  {
   "cell_type": "code",
   "execution_count": 4,
   "metadata": {},
   "outputs": [
    {
     "name": "stdout",
     "output_type": "stream",
     "text": [
      "<class 'pandas.core.frame.DataFrame'>\n",
      "RangeIndex: 19999 entries, 0 to 19998\n",
      "Data columns (total 11 columns):\n",
      " #   Column              Non-Null Count  Dtype  \n",
      "---  ------              --------------  -----  \n",
      " 0   InvoiceDate         19999 non-null  object \n",
      " 1   Invoice Time        19999 non-null  object \n",
      " 2   CustomerID          19999 non-null  object \n",
      " 3   InvoiceNo           19999 non-null  int64  \n",
      " 4   StockCode           19999 non-null  object \n",
      " 5   Description         19999 non-null  object \n",
      " 6   Country             19999 non-null  object \n",
      " 7   Quantity            19999 non-null  int64  \n",
      " 8   UnitPrice           19999 non-null  float64\n",
      " 9   Revenue             19999 non-null  float64\n",
      " 10  Items availability  19999 non-null  object \n",
      "dtypes: float64(2), int64(2), object(7)\n",
      "memory usage: 1.7+ MB\n"
     ]
    }
   ],
   "source": [
    "file.info()"
   ]
  },
  {
   "cell_type": "code",
   "execution_count": 5,
   "metadata": {},
   "outputs": [
    {
     "data": {
      "text/html": [
       "<div>\n",
       "<style scoped>\n",
       "    .dataframe tbody tr th:only-of-type {\n",
       "        vertical-align: middle;\n",
       "    }\n",
       "\n",
       "    .dataframe tbody tr th {\n",
       "        vertical-align: top;\n",
       "    }\n",
       "\n",
       "    .dataframe thead th {\n",
       "        text-align: right;\n",
       "    }\n",
       "</style>\n",
       "<table border=\"1\" class=\"dataframe\">\n",
       "  <thead>\n",
       "    <tr style=\"text-align: right;\">\n",
       "      <th></th>\n",
       "      <th>InvoiceNo</th>\n",
       "      <th>Quantity</th>\n",
       "      <th>UnitPrice</th>\n",
       "      <th>Revenue</th>\n",
       "    </tr>\n",
       "  </thead>\n",
       "  <tbody>\n",
       "    <tr>\n",
       "      <th>count</th>\n",
       "      <td>19999.000000</td>\n",
       "      <td>19999.000000</td>\n",
       "      <td>19999.000000</td>\n",
       "      <td>19999.000000</td>\n",
       "    </tr>\n",
       "    <tr>\n",
       "      <th>mean</th>\n",
       "      <td>545115.134307</td>\n",
       "      <td>10.801240</td>\n",
       "      <td>2.985579</td>\n",
       "      <td>20.080151</td>\n",
       "    </tr>\n",
       "    <tr>\n",
       "      <th>std</th>\n",
       "      <td>5492.606894</td>\n",
       "      <td>46.768777</td>\n",
       "      <td>4.137969</td>\n",
       "      <td>88.068819</td>\n",
       "    </tr>\n",
       "    <tr>\n",
       "      <th>min</th>\n",
       "      <td>536365.000000</td>\n",
       "      <td>1.000000</td>\n",
       "      <td>0.100000</td>\n",
       "      <td>0.120000</td>\n",
       "    </tr>\n",
       "    <tr>\n",
       "      <th>25%</th>\n",
       "      <td>540520.000000</td>\n",
       "      <td>1.000000</td>\n",
       "      <td>1.250000</td>\n",
       "      <td>3.300000</td>\n",
       "    </tr>\n",
       "    <tr>\n",
       "      <th>50%</th>\n",
       "      <td>544836.000000</td>\n",
       "      <td>4.000000</td>\n",
       "      <td>1.950000</td>\n",
       "      <td>8.950000</td>\n",
       "    </tr>\n",
       "    <tr>\n",
       "      <th>75%</th>\n",
       "      <td>549947.000000</td>\n",
       "      <td>10.000000</td>\n",
       "      <td>3.750000</td>\n",
       "      <td>17.400000</td>\n",
       "    </tr>\n",
       "    <tr>\n",
       "      <th>max</th>\n",
       "      <td>554656.000000</td>\n",
       "      <td>3906.000000</td>\n",
       "      <td>195.000000</td>\n",
       "      <td>3828.000000</td>\n",
       "    </tr>\n",
       "  </tbody>\n",
       "</table>\n",
       "</div>"
      ],
      "text/plain": [
       "           InvoiceNo      Quantity     UnitPrice       Revenue\n",
       "count   19999.000000  19999.000000  19999.000000  19999.000000\n",
       "mean   545115.134307     10.801240      2.985579     20.080151\n",
       "std      5492.606894     46.768777      4.137969     88.068819\n",
       "min    536365.000000      1.000000      0.100000      0.120000\n",
       "25%    540520.000000      1.000000      1.250000      3.300000\n",
       "50%    544836.000000      4.000000      1.950000      8.950000\n",
       "75%    549947.000000     10.000000      3.750000     17.400000\n",
       "max    554656.000000   3906.000000    195.000000   3828.000000"
      ]
     },
     "execution_count": 5,
     "metadata": {},
     "output_type": "execute_result"
    }
   ],
   "source": [
    "file.describe()"
   ]
  },
  {
   "cell_type": "code",
   "execution_count": 6,
   "metadata": {},
   "outputs": [
    {
     "data": {
      "text/plain": [
       "<matplotlib.axes._subplots.AxesSubplot at 0x12d15c9e280>"
      ]
     },
     "execution_count": 6,
     "metadata": {},
     "output_type": "execute_result"
    },
    {
     "data": {
      "image/png": "[encoded data removed]",
      "text/plain": [
       "<Figure size 432x288 with 1 Axes>"
      ]
     },
     "metadata": {},
     "output_type": "display_data"
    }
   ],
   "source": [
    "sns.set()\n",
    "sns.distplot(file['Revenue'],hist=False)"
   ]
  },
  {
   "cell_type": "code",
   "execution_count": 7,
   "metadata": {},
   "outputs": [
    {
     "data": {
      "text/plain": [
       "0          (12.6, 19.8]\n",
       "1        (19.8, 3828.0]\n",
       "2        (19.8, 3828.0]\n",
       "3        (19.8, 3828.0]\n",
       "4        (19.8, 3828.0]\n",
       "              ...      \n",
       "19994      (12.6, 19.8]\n",
       "19995      (12.6, 19.8]\n",
       "19996      (5.95, 12.6]\n",
       "19997      (12.6, 19.8]\n",
       "19998    (19.8, 3828.0]\n",
       "Name: Revenue, Length: 19999, dtype: category\n",
       "Categories (5, interval[float64]): [(0.119, 2.58] < (2.58, 5.95] < (5.95, 12.6] < (12.6, 19.8] < (19.8, 3828.0]]"
      ]
     },
     "execution_count": 7,
     "metadata": {},
     "output_type": "execute_result"
    }
   ],
   "source": [
    "pd.qcut(file['Revenue'],5)"
   ]
  },
  {
   "cell_type": "code",
   "execution_count": 8,
   "metadata": {},
   "outputs": [],
   "source": [
    "file['revenue_buckets']=pd.qcut(file['Revenue'],5,labels=['Very Low','Low','Good','Very Good','Excellent'])"
   ]
  },
  {
   "cell_type": "code",
   "execution_count": 9,
   "metadata": {},
   "outputs": [
    {
     "data": {
      "text/plain": [
       "Very Good    4268\n",
       "Low          4121\n",
       "Very Low     4000\n",
       "Good         3920\n",
       "Excellent    3690\n",
       "Name: revenue_buckets, dtype: int64"
      ]
     },
     "execution_count": 9,
     "metadata": {},
     "output_type": "execute_result"
    }
   ],
   "source": [
    "file['revenue_buckets'].value_counts()"
   ]
  },
  {
   "cell_type": "code",
   "execution_count": 10,
   "metadata": {},
   "outputs": [],
   "source": [
    "revenue_status=file[['CustomerID','revenue_buckets']].groupby(['CustomerID','revenue_buckets']).agg({'revenue_buckets':'count'})"
   ]
  },
  {
   "cell_type": "code",
   "execution_count": 11,
   "metadata": {},
   "outputs": [
    {
     "data": {
      "text/html": [
       "<div>\n",
       "<style scoped>\n",
       "    .dataframe tbody tr th:only-of-type {\n",
       "        vertical-align: middle;\n",
       "    }\n",
       "\n",
       "    .dataframe tbody tr th {\n",
       "        vertical-align: top;\n",
       "    }\n",
       "\n",
       "    .dataframe thead th {\n",
       "        text-align: right;\n",
       "    }\n",
       "</style>\n",
       "<table border=\"1\" class=\"dataframe\">\n",
       "  <thead>\n",
       "    <tr style=\"text-align: right;\">\n",
       "      <th></th>\n",
       "      <th></th>\n",
       "      <th>revenue_buckets</th>\n",
       "    </tr>\n",
       "    <tr>\n",
       "      <th>CustomerID</th>\n",
       "      <th>revenue_buckets</th>\n",
       "      <th></th>\n",
       "    </tr>\n",
       "  </thead>\n",
       "  <tbody>\n",
       "    <tr>\n",
       "      <th rowspan=\"4\" valign=\"top\">AV-pPOFauC1rwyj_ghHT</th>\n",
       "      <th>Very Low</th>\n",
       "      <td>5</td>\n",
       "    </tr>\n",
       "    <tr>\n",
       "      <th>Low</th>\n",
       "      <td>2</td>\n",
       "    </tr>\n",
       "    <tr>\n",
       "      <th>Good</th>\n",
       "      <td>2</td>\n",
       "    </tr>\n",
       "    <tr>\n",
       "      <th>Excellent</th>\n",
       "      <td>1</td>\n",
       "    </tr>\n",
       "    <tr>\n",
       "      <th>AV0-JbjHvKc47QAVgW-C</th>\n",
       "      <th>Very Low</th>\n",
       "      <td>12</td>\n",
       "    </tr>\n",
       "    <tr>\n",
       "      <th>...</th>\n",
       "      <th>...</th>\n",
       "      <td>...</td>\n",
       "    </tr>\n",
       "    <tr>\n",
       "      <th rowspan=\"2\" valign=\"top\">AWOpOCd2YSSHbkXw07ei</th>\n",
       "      <th>Very Good</th>\n",
       "      <td>3</td>\n",
       "    </tr>\n",
       "    <tr>\n",
       "      <th>Excellent</th>\n",
       "      <td>6</td>\n",
       "    </tr>\n",
       "    <tr>\n",
       "      <th rowspan=\"3\" valign=\"top\">AWOpWM18YSSHbkXw09Yj</th>\n",
       "      <th>Very Low</th>\n",
       "      <td>1</td>\n",
       "    </tr>\n",
       "    <tr>\n",
       "      <th>Low</th>\n",
       "      <td>1</td>\n",
       "    </tr>\n",
       "    <tr>\n",
       "      <th>Good</th>\n",
       "      <td>3</td>\n",
       "    </tr>\n",
       "  </tbody>\n",
       "</table>\n",
       "<p>3493 rows × 1 columns</p>\n",
       "</div>"
      ],
      "text/plain": [
       "                                      revenue_buckets\n",
       "CustomerID           revenue_buckets                 \n",
       "AV-pPOFauC1rwyj_ghHT Very Low                       5\n",
       "                     Low                            2\n",
       "                     Good                           2\n",
       "                     Excellent                      1\n",
       "AV0-JbjHvKc47QAVgW-C Very Low                      12\n",
       "...                                               ...\n",
       "AWOpOCd2YSSHbkXw07ei Very Good                      3\n",
       "                     Excellent                      6\n",
       "AWOpWM18YSSHbkXw09Yj Very Low                       1\n",
       "                     Low                            1\n",
       "                     Good                           3\n",
       "\n",
       "[3493 rows x 1 columns]"
      ]
     },
     "execution_count": 11,
     "metadata": {},
     "output_type": "execute_result"
    }
   ],
   "source": [
    "revenue_status.rename({'revenue_buckets':'count'},axis='columns').reset_index()\n",
    "revenue_status[(revenue_status != 0).all(1)]"
   ]
  },
  {
   "cell_type": "code",
   "execution_count": 12,
   "metadata": {},
   "outputs": [
    {
     "data": {
      "text/plain": [
       "<matplotlib.axes._subplots.AxesSubplot at 0x12d16664190>"
      ]
     },
     "execution_count": 12,
     "metadata": {},
     "output_type": "execute_result"
    },
    {
     "data": {
      "image/png": "[encoded data removed]",
      "text/plain": [
       "<Figure size 432x288 with 1 Axes>"
      ]
     },
     "metadata": {},
     "output_type": "display_data"
    }
   ],
   "source": [
    "sns.set()\n",
    "sns.distplot(file['UnitPrice'],hist=False)"
   ]
  },
  {
   "cell_type": "code",
   "execution_count": 13,
   "metadata": {},
   "outputs": [
    {
     "data": {
      "text/plain": [
       "0         (1.65, 2.55]\n",
       "1         (2.55, 4.25]\n",
       "2         (2.55, 4.25]\n",
       "3         (2.55, 4.25]\n",
       "4         (2.55, 4.25]\n",
       "             ...      \n",
       "19994    (4.25, 195.0]\n",
       "19995     (1.65, 2.55]\n",
       "19996     (1.65, 2.55]\n",
       "19997     (0.85, 1.65]\n",
       "19998    (4.25, 195.0]\n",
       "Name: UnitPrice, Length: 19999, dtype: category\n",
       "Categories (5, interval[float64]): [(0.099, 0.85] < (0.85, 1.65] < (1.65, 2.55] < (2.55, 4.25] < (4.25, 195.0]]"
      ]
     },
     "execution_count": 13,
     "metadata": {},
     "output_type": "execute_result"
    }
   ],
   "source": [
    "pd.qcut(file['UnitPrice'],5)"
   ]
  },
  {
   "cell_type": "code",
   "execution_count": 14,
   "metadata": {},
   "outputs": [],
   "source": [
    "file['price_buckets']=pd.qcut(file['UnitPrice'],5,labels=['Critical','Low','Medium','High','Very High'])"
   ]
  },
  {
   "cell_type": "code",
   "execution_count": 15,
   "metadata": {},
   "outputs": [
    {
     "data": {
      "text/plain": [
       "Low          5093\n",
       "Critical     4047\n",
       "High         3722\n",
       "Very High    3650\n",
       "Medium       3487\n",
       "Name: price_buckets, dtype: int64"
      ]
     },
     "execution_count": 15,
     "metadata": {},
     "output_type": "execute_result"
    }
   ],
   "source": [
    "file['price_buckets'].value_counts()"
   ]
  },
  {
   "cell_type": "code",
   "execution_count": 16,
   "metadata": {},
   "outputs": [],
   "source": [
    "price_status=file[['CustomerID','price_buckets']].groupby(['CustomerID','price_buckets']).agg({'price_buckets':'count'})"
   ]
  },
  {
   "cell_type": "code",
   "execution_count": 17,
   "metadata": {},
   "outputs": [
    {
     "data": {
      "text/html": [
       "<div>\n",
       "<style scoped>\n",
       "    .dataframe tbody tr th:only-of-type {\n",
       "        vertical-align: middle;\n",
       "    }\n",
       "\n",
       "    .dataframe tbody tr th {\n",
       "        vertical-align: top;\n",
       "    }\n",
       "\n",
       "    .dataframe thead th {\n",
       "        text-align: right;\n",
       "    }\n",
       "</style>\n",
       "<table border=\"1\" class=\"dataframe\">\n",
       "  <thead>\n",
       "    <tr style=\"text-align: right;\">\n",
       "      <th></th>\n",
       "      <th></th>\n",
       "      <th>price_buckets</th>\n",
       "    </tr>\n",
       "    <tr>\n",
       "      <th>CustomerID</th>\n",
       "      <th>price_buckets</th>\n",
       "      <th></th>\n",
       "    </tr>\n",
       "  </thead>\n",
       "  <tbody>\n",
       "    <tr>\n",
       "      <th rowspan=\"3\" valign=\"top\">AV-pPOFauC1rwyj_ghHT</th>\n",
       "      <th>Critical</th>\n",
       "      <td>2</td>\n",
       "    </tr>\n",
       "    <tr>\n",
       "      <th>Low</th>\n",
       "      <td>4</td>\n",
       "    </tr>\n",
       "    <tr>\n",
       "      <th>High</th>\n",
       "      <td>4</td>\n",
       "    </tr>\n",
       "    <tr>\n",
       "      <th rowspan=\"2\" valign=\"top\">AV0-JbjHvKc47QAVgW-C</th>\n",
       "      <th>Critical</th>\n",
       "      <td>8</td>\n",
       "    </tr>\n",
       "    <tr>\n",
       "      <th>Low</th>\n",
       "      <td>14</td>\n",
       "    </tr>\n",
       "    <tr>\n",
       "      <th>...</th>\n",
       "      <th>...</th>\n",
       "      <td>...</td>\n",
       "    </tr>\n",
       "    <tr>\n",
       "      <th rowspan=\"2\" valign=\"top\">AWOpOCd2YSSHbkXw07ei</th>\n",
       "      <th>High</th>\n",
       "      <td>2</td>\n",
       "    </tr>\n",
       "    <tr>\n",
       "      <th>Very High</th>\n",
       "      <td>5</td>\n",
       "    </tr>\n",
       "    <tr>\n",
       "      <th rowspan=\"3\" valign=\"top\">AWOpWM18YSSHbkXw09Yj</th>\n",
       "      <th>Critical</th>\n",
       "      <td>3</td>\n",
       "    </tr>\n",
       "    <tr>\n",
       "      <th>Medium</th>\n",
       "      <td>1</td>\n",
       "    </tr>\n",
       "    <tr>\n",
       "      <th>Very High</th>\n",
       "      <td>1</td>\n",
       "    </tr>\n",
       "  </tbody>\n",
       "</table>\n",
       "<p>3517 rows × 1 columns</p>\n",
       "</div>"
      ],
      "text/plain": [
       "                                    price_buckets\n",
       "CustomerID           price_buckets               \n",
       "AV-pPOFauC1rwyj_ghHT Critical                   2\n",
       "                     Low                        4\n",
       "                     High                       4\n",
       "AV0-JbjHvKc47QAVgW-C Critical                   8\n",
       "                     Low                       14\n",
       "...                                           ...\n",
       "AWOpOCd2YSSHbkXw07ei High                       2\n",
       "                     Very High                  5\n",
       "AWOpWM18YSSHbkXw09Yj Critical                   3\n",
       "                     Medium                     1\n",
       "                     Very High                  1\n",
       "\n",
       "[3517 rows x 1 columns]"
      ]
     },
     "execution_count": 17,
     "metadata": {},
     "output_type": "execute_result"
    }
   ],
   "source": [
    "price_status.rename({'price_buckets':'count'},axis='columns').reset_index()\n",
    "price_status[(price_status != 0).all(1)]"
   ]
  },
  {
   "cell_type": "code",
   "execution_count": 18,
   "metadata": {},
   "outputs": [
    {
     "data": {
      "text/html": [
       "<div>\n",
       "<style scoped>\n",
       "    .dataframe tbody tr th:only-of-type {\n",
       "        vertical-align: middle;\n",
       "    }\n",
       "\n",
       "    .dataframe tbody tr th {\n",
       "        vertical-align: top;\n",
       "    }\n",
       "\n",
       "    .dataframe thead th {\n",
       "        text-align: right;\n",
       "    }\n",
       "</style>\n",
       "<table border=\"1\" class=\"dataframe\">\n",
       "  <thead>\n",
       "    <tr style=\"text-align: right;\">\n",
       "      <th></th>\n",
       "      <th></th>\n",
       "      <th>CustomerID</th>\n",
       "    </tr>\n",
       "    <tr>\n",
       "      <th>revenue_buckets</th>\n",
       "      <th>price_buckets</th>\n",
       "      <th></th>\n",
       "    </tr>\n",
       "  </thead>\n",
       "  <tbody>\n",
       "    <tr>\n",
       "      <th rowspan=\"5\" valign=\"top\">Very Low</th>\n",
       "      <th>Critical</th>\n",
       "      <td>1507</td>\n",
       "    </tr>\n",
       "    <tr>\n",
       "      <th>Low</th>\n",
       "      <td>1529</td>\n",
       "    </tr>\n",
       "    <tr>\n",
       "      <th>Medium</th>\n",
       "      <td>964</td>\n",
       "    </tr>\n",
       "    <tr>\n",
       "      <th>High</th>\n",
       "      <td>0</td>\n",
       "    </tr>\n",
       "    <tr>\n",
       "      <th>Very High</th>\n",
       "      <td>0</td>\n",
       "    </tr>\n",
       "    <tr>\n",
       "      <th rowspan=\"5\" valign=\"top\">Low</th>\n",
       "      <th>Critical</th>\n",
       "      <td>701</td>\n",
       "    </tr>\n",
       "    <tr>\n",
       "      <th>Low</th>\n",
       "      <td>909</td>\n",
       "    </tr>\n",
       "    <tr>\n",
       "      <th>Medium</th>\n",
       "      <td>585</td>\n",
       "    </tr>\n",
       "    <tr>\n",
       "      <th>High</th>\n",
       "      <td>1466</td>\n",
       "    </tr>\n",
       "    <tr>\n",
       "      <th>Very High</th>\n",
       "      <td>460</td>\n",
       "    </tr>\n",
       "    <tr>\n",
       "      <th rowspan=\"5\" valign=\"top\">Good</th>\n",
       "      <th>Critical</th>\n",
       "      <td>1096</td>\n",
       "    </tr>\n",
       "    <tr>\n",
       "      <th>Low</th>\n",
       "      <td>816</td>\n",
       "    </tr>\n",
       "    <tr>\n",
       "      <th>Medium</th>\n",
       "      <td>630</td>\n",
       "    </tr>\n",
       "    <tr>\n",
       "      <th>High</th>\n",
       "      <td>541</td>\n",
       "    </tr>\n",
       "    <tr>\n",
       "      <th>Very High</th>\n",
       "      <td>837</td>\n",
       "    </tr>\n",
       "    <tr>\n",
       "      <th rowspan=\"5\" valign=\"top\">Very Good</th>\n",
       "      <th>Critical</th>\n",
       "      <td>293</td>\n",
       "    </tr>\n",
       "    <tr>\n",
       "      <th>Low</th>\n",
       "      <td>1279</td>\n",
       "    </tr>\n",
       "    <tr>\n",
       "      <th>Medium</th>\n",
       "      <td>479</td>\n",
       "    </tr>\n",
       "    <tr>\n",
       "      <th>High</th>\n",
       "      <td>1051</td>\n",
       "    </tr>\n",
       "    <tr>\n",
       "      <th>Very High</th>\n",
       "      <td>1166</td>\n",
       "    </tr>\n",
       "    <tr>\n",
       "      <th rowspan=\"5\" valign=\"top\">Excellent</th>\n",
       "      <th>Critical</th>\n",
       "      <td>450</td>\n",
       "    </tr>\n",
       "    <tr>\n",
       "      <th>Low</th>\n",
       "      <td>560</td>\n",
       "    </tr>\n",
       "    <tr>\n",
       "      <th>Medium</th>\n",
       "      <td>829</td>\n",
       "    </tr>\n",
       "    <tr>\n",
       "      <th>High</th>\n",
       "      <td>664</td>\n",
       "    </tr>\n",
       "    <tr>\n",
       "      <th>Very High</th>\n",
       "      <td>1187</td>\n",
       "    </tr>\n",
       "  </tbody>\n",
       "</table>\n",
       "</div>"
      ],
      "text/plain": [
       "                               CustomerID\n",
       "revenue_buckets price_buckets            \n",
       "Very Low        Critical             1507\n",
       "                Low                  1529\n",
       "                Medium                964\n",
       "                High                    0\n",
       "                Very High               0\n",
       "Low             Critical              701\n",
       "                Low                   909\n",
       "                Medium                585\n",
       "                High                 1466\n",
       "                Very High             460\n",
       "Good            Critical             1096\n",
       "                Low                   816\n",
       "                Medium                630\n",
       "                High                  541\n",
       "                Very High             837\n",
       "Very Good       Critical              293\n",
       "                Low                  1279\n",
       "                Medium                479\n",
       "                High                 1051\n",
       "                Very High            1166\n",
       "Excellent       Critical              450\n",
       "                Low                   560\n",
       "                Medium                829\n",
       "                High                  664\n",
       "                Very High            1187"
      ]
     },
     "execution_count": 18,
     "metadata": {},
     "output_type": "execute_result"
    }
   ],
   "source": [
    "file[['CustomerID','revenue_buckets','price_buckets']].groupby(['revenue_buckets','price_buckets']).agg({'CustomerID':'count'})"
   ]
  },
  {
   "cell_type": "code",
   "execution_count": 19,
   "metadata": {},
   "outputs": [
    {
     "data": {
      "text/html": [
       "<div>\n",
       "<style scoped>\n",
       "    .dataframe tbody tr th:only-of-type {\n",
       "        vertical-align: middle;\n",
       "    }\n",
       "\n",
       "    .dataframe tbody tr th {\n",
       "        vertical-align: top;\n",
       "    }\n",
       "\n",
       "    .dataframe thead th {\n",
       "        text-align: right;\n",
       "    }\n",
       "</style>\n",
       "<table border=\"1\" class=\"dataframe\">\n",
       "  <thead>\n",
       "    <tr style=\"text-align: right;\">\n",
       "      <th>price_buckets</th>\n",
       "      <th>Critical</th>\n",
       "      <th>Low</th>\n",
       "      <th>Medium</th>\n",
       "      <th>High</th>\n",
       "      <th>Very High</th>\n",
       "    </tr>\n",
       "    <tr>\n",
       "      <th>revenue_buckets</th>\n",
       "      <th></th>\n",
       "      <th></th>\n",
       "      <th></th>\n",
       "      <th></th>\n",
       "      <th></th>\n",
       "    </tr>\n",
       "  </thead>\n",
       "  <tbody>\n",
       "    <tr>\n",
       "      <th>Very Low</th>\n",
       "      <td>0.376750</td>\n",
       "      <td>0.382250</td>\n",
       "      <td>0.241000</td>\n",
       "      <td>0.000000</td>\n",
       "      <td>0.000000</td>\n",
       "    </tr>\n",
       "    <tr>\n",
       "      <th>Low</th>\n",
       "      <td>0.170104</td>\n",
       "      <td>0.220578</td>\n",
       "      <td>0.141956</td>\n",
       "      <td>0.355739</td>\n",
       "      <td>0.111623</td>\n",
       "    </tr>\n",
       "    <tr>\n",
       "      <th>Good</th>\n",
       "      <td>0.279592</td>\n",
       "      <td>0.208163</td>\n",
       "      <td>0.160714</td>\n",
       "      <td>0.138010</td>\n",
       "      <td>0.213520</td>\n",
       "    </tr>\n",
       "    <tr>\n",
       "      <th>Very Good</th>\n",
       "      <td>0.068650</td>\n",
       "      <td>0.299672</td>\n",
       "      <td>0.112231</td>\n",
       "      <td>0.246251</td>\n",
       "      <td>0.273196</td>\n",
       "    </tr>\n",
       "    <tr>\n",
       "      <th>Excellent</th>\n",
       "      <td>0.121951</td>\n",
       "      <td>0.151762</td>\n",
       "      <td>0.224661</td>\n",
       "      <td>0.179946</td>\n",
       "      <td>0.321680</td>\n",
       "    </tr>\n",
       "  </tbody>\n",
       "</table>\n",
       "</div>"
      ],
      "text/plain": [
       "price_buckets    Critical       Low    Medium      High  Very High\n",
       "revenue_buckets                                                   \n",
       "Very Low         0.376750  0.382250  0.241000  0.000000   0.000000\n",
       "Low              0.170104  0.220578  0.141956  0.355739   0.111623\n",
       "Good             0.279592  0.208163  0.160714  0.138010   0.213520\n",
       "Very Good        0.068650  0.299672  0.112231  0.246251   0.273196\n",
       "Excellent        0.121951  0.151762  0.224661  0.179946   0.321680"
      ]
     },
     "execution_count": 19,
     "metadata": {},
     "output_type": "execute_result"
    }
   ],
   "source": [
    "pd.crosstab(index=file['revenue_buckets'],columns=file['price_buckets']).apply(lambda x: x/x.sum(), axis=1)"
   ]
  },
  {
   "cell_type": "code",
   "execution_count": 20,
   "metadata": {},
   "outputs": [],
   "source": [
    "file_rate=pd.crosstab(index=file['revenue_buckets'],columns=file['price_buckets'])"
   ]
  },
  {
   "cell_type": "code",
   "execution_count": 21,
   "metadata": {},
   "outputs": [
    {
     "data": {
      "text/plain": [
       "<matplotlib.axes._subplots.AxesSubplot at 0x12d16770ee0>"
      ]
     },
     "execution_count": 21,
     "metadata": {},
     "output_type": "execute_result"
    },
    {
     "data": {
      "image/png": "[encoded data removed]",
      "text/plain": [
       "<Figure size 432x288 with 1 Axes>"
      ]
     },
     "metadata": {},
     "output_type": "display_data"
    }
   ],
   "source": [
    "file_rate.plot.bar()"
   ]
  },
  {
   "cell_type": "code",
   "execution_count": 22,
   "metadata": {},
   "outputs": [],
   "source": [
    "from scipy import stats\n",
    "(chi2, p, dof,_) = stats.chi2_contingency([file_rate.iloc[0].values,file_rate.iloc[1].values, file_rate.iloc[2].values, file_rate.iloc[3].values, file_rate.iloc[4].values])"
   ]
  },
  {
   "cell_type": "code",
   "execution_count": 23,
   "metadata": {},
   "outputs": [
    {
     "name": "stdout",
     "output_type": "stream",
     "text": [
      "chi2     :  4968.998230001493\n",
      "p-value  :  0.0\n",
      "Degree for Freedom :  16\n"
     ]
    }
   ],
   "source": [
    "print (\"chi2     : \" ,chi2)\n",
    "print (\"p-value  : \" ,p)\n",
    "print (\"Degree for Freedom : \" ,dof)"
   ]
  },
  {
   "cell_type": "code",
   "execution_count": 24,
   "metadata": {},
   "outputs": [],
   "source": [
    "import math\n",
    "file['final_revenue']=file['Revenue'].apply(lambda x: int(math.ceil(x/10))*10)"
   ]
  },
  {
   "cell_type": "code",
   "execution_count": 25,
   "metadata": {},
   "outputs": [
    {
     "data": {
      "text/html": [
       "<div>\n",
       "<style scoped>\n",
       "    .dataframe tbody tr th:only-of-type {\n",
       "        vertical-align: middle;\n",
       "    }\n",
       "\n",
       "    .dataframe tbody tr th {\n",
       "        vertical-align: top;\n",
       "    }\n",
       "\n",
       "    .dataframe thead th {\n",
       "        text-align: right;\n",
       "    }\n",
       "</style>\n",
       "<table border=\"1\" class=\"dataframe\">\n",
       "  <thead>\n",
       "    <tr style=\"text-align: right;\">\n",
       "      <th></th>\n",
       "      <th>InvoiceDate</th>\n",
       "      <th>Invoice Time</th>\n",
       "      <th>CustomerID</th>\n",
       "      <th>InvoiceNo</th>\n",
       "      <th>StockCode</th>\n",
       "      <th>Description</th>\n",
       "      <th>Country</th>\n",
       "      <th>Quantity</th>\n",
       "      <th>UnitPrice</th>\n",
       "      <th>Revenue</th>\n",
       "      <th>Items availability</th>\n",
       "      <th>revenue_buckets</th>\n",
       "      <th>price_buckets</th>\n",
       "      <th>final_revenue</th>\n",
       "    </tr>\n",
       "  </thead>\n",
       "  <tbody>\n",
       "    <tr>\n",
       "      <th>0</th>\n",
       "      <td>14.12.2017</td>\n",
       "      <td>6:00</td>\n",
       "      <td>AVpgMuGwLJeJML43KY_c</td>\n",
       "      <td>536365</td>\n",
       "      <td>85123A</td>\n",
       "      <td>WHITE HANGING HEART T-LIGHT HOLDER</td>\n",
       "      <td>United Kingdom</td>\n",
       "      <td>6</td>\n",
       "      <td>2.55</td>\n",
       "      <td>15.30</td>\n",
       "      <td>In Stock</td>\n",
       "      <td>Very Good</td>\n",
       "      <td>Medium</td>\n",
       "      <td>20</td>\n",
       "    </tr>\n",
       "    <tr>\n",
       "      <th>1</th>\n",
       "      <td>08.09.2017</td>\n",
       "      <td>5:00</td>\n",
       "      <td>AVpgMuGwLJeJML43KY_c</td>\n",
       "      <td>536365</td>\n",
       "      <td>71053</td>\n",
       "      <td>WHITE METAL LANTERN</td>\n",
       "      <td>United Kingdom</td>\n",
       "      <td>6</td>\n",
       "      <td>3.39</td>\n",
       "      <td>20.34</td>\n",
       "      <td>In Stock</td>\n",
       "      <td>Excellent</td>\n",
       "      <td>High</td>\n",
       "      <td>30</td>\n",
       "    </tr>\n",
       "    <tr>\n",
       "      <th>2</th>\n",
       "      <td>10.10.2017</td>\n",
       "      <td>5:00</td>\n",
       "      <td>AVpgMuGwLJeJML43KY_c</td>\n",
       "      <td>536365</td>\n",
       "      <td>84406B</td>\n",
       "      <td>CREAM CUPID HEARTS COAT HANGER</td>\n",
       "      <td>United Kingdom</td>\n",
       "      <td>8</td>\n",
       "      <td>2.75</td>\n",
       "      <td>22.00</td>\n",
       "      <td>In Stock</td>\n",
       "      <td>Excellent</td>\n",
       "      <td>High</td>\n",
       "      <td>30</td>\n",
       "    </tr>\n",
       "    <tr>\n",
       "      <th>3</th>\n",
       "      <td>28.08.2017</td>\n",
       "      <td>7:00</td>\n",
       "      <td>AVpgMuGwLJeJML43KY_c</td>\n",
       "      <td>536365</td>\n",
       "      <td>84029G</td>\n",
       "      <td>KNITTED UNION FLAG HOT WATER BOTTLE</td>\n",
       "      <td>United Kingdom</td>\n",
       "      <td>6</td>\n",
       "      <td>3.39</td>\n",
       "      <td>20.34</td>\n",
       "      <td>In Stock</td>\n",
       "      <td>Excellent</td>\n",
       "      <td>High</td>\n",
       "      <td>30</td>\n",
       "    </tr>\n",
       "    <tr>\n",
       "      <th>4</th>\n",
       "      <td>24.10.2017</td>\n",
       "      <td>4:00</td>\n",
       "      <td>AVpgMuGwLJeJML43KY_c</td>\n",
       "      <td>536365</td>\n",
       "      <td>84029E</td>\n",
       "      <td>RED WOOLLY HOTTIE WHITE HEART.</td>\n",
       "      <td>United Kingdom</td>\n",
       "      <td>6</td>\n",
       "      <td>3.39</td>\n",
       "      <td>20.34</td>\n",
       "      <td>In Stock</td>\n",
       "      <td>Excellent</td>\n",
       "      <td>High</td>\n",
       "      <td>30</td>\n",
       "    </tr>\n",
       "  </tbody>\n",
       "</table>\n",
       "</div>"
      ],
      "text/plain": [
       "  InvoiceDate Invoice Time            CustomerID  InvoiceNo StockCode  \\\n",
       "0  14.12.2017         6:00  AVpgMuGwLJeJML43KY_c     536365    85123A   \n",
       "1  08.09.2017         5:00  AVpgMuGwLJeJML43KY_c     536365     71053   \n",
       "2  10.10.2017         5:00  AVpgMuGwLJeJML43KY_c     536365    84406B   \n",
       "3  28.08.2017         7:00  AVpgMuGwLJeJML43KY_c     536365    84029G   \n",
       "4  24.10.2017         4:00  AVpgMuGwLJeJML43KY_c     536365    84029E   \n",
       "\n",
       "                           Description         Country  Quantity  UnitPrice  \\\n",
       "0   WHITE HANGING HEART T-LIGHT HOLDER  United Kingdom         6       2.55   \n",
       "1                  WHITE METAL LANTERN  United Kingdom         6       3.39   \n",
       "2       CREAM CUPID HEARTS COAT HANGER  United Kingdom         8       2.75   \n",
       "3  KNITTED UNION FLAG HOT WATER BOTTLE  United Kingdom         6       3.39   \n",
       "4       RED WOOLLY HOTTIE WHITE HEART.  United Kingdom         6       3.39   \n",
       "\n",
       "   Revenue Items availability revenue_buckets price_buckets  final_revenue  \n",
       "0    15.30           In Stock       Very Good        Medium             20  \n",
       "1    20.34           In Stock       Excellent          High             30  \n",
       "2    22.00           In Stock       Excellent          High             30  \n",
       "3    20.34           In Stock       Excellent          High             30  \n",
       "4    20.34           In Stock       Excellent          High             30  "
      ]
     },
     "execution_count": 25,
     "metadata": {},
     "output_type": "execute_result"
    }
   ],
   "source": [
    "file.head()"
   ]
  },
  {
   "cell_type": "code",
   "execution_count": 26,
   "metadata": {},
   "outputs": [],
   "source": [
    "file.to_csv('Segmentdata.csv')"
   ]
  }
 ],
 "metadata": {
  "kernelspec": {
   "display_name": "Python 3",
   "language": "python",
   "name": "python3"
  },
  "language_info": {
   "codemirror_mode": {
    "name": "ipython",
    "version": 3
   },
   "file_extension": ".py",
   "mimetype": "text/x-python",
   "name": "python",
   "nbconvert_exporter": "python",
   "pygments_lexer": "ipython3",
   "version": "3.8.3"
  }
 },
 "nbformat": 4,
 "nbformat_minor": 4
}
